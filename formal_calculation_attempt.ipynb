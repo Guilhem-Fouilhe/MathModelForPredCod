{
 "cells": [
  {
   "cell_type": "code",
   "execution_count": 6,
   "metadata": {},
   "outputs": [],
   "source": [
    "ID = identity_matrix(QQ,120)\n",
    "beta,gamma,alpha,d, w21, w12 = var('beta gamma alpha d w21 w12')\n",
    "assume(beta,'real')\n",
    "assume(beta>0)\n",
    "assume(gamma,'real')\n",
    "assume(gamma>0)\n",
    "assume(alpha,'real')\n",
    "assume(alpha>0)\n",
    "assume(d,'real')\n",
    "assume(d>0)\n",
    "assume(w21,'real')\n",
    "assume(w12,'real')\n"
   ]
  },
  {
   "cell_type": "code",
   "execution_count": 24,
   "metadata": {},
   "outputs": [],
   "source": [
    "A11 = (1-beta-gamma)\n",
    "A12 = beta * w21\n",
    "A21 = (1-beta-gamma) * gamma * w12 + alpha * w21\n",
    "A22 = gamma * beta * w12 * w21 + (1-gamma) - alpha * w21 *w21 \n",
    "A = matrix([[A11,A12],[A21,A22]])"
   ]
  },
  {
   "cell_type": "code",
   "execution_count": 25,
   "metadata": {},
   "outputs": [
    {
     "data": {
      "text/plain": [
       "Full MatrixSpace of 2 by 2 dense matrices over Symbolic Ring"
      ]
     },
     "execution_count": 25,
     "metadata": {},
     "output_type": "execute_result"
    }
   ],
   "source": [
    "A.parent()"
   ]
  },
  {
   "cell_type": "code",
   "execution_count": 31,
   "metadata": {
    "scrolled": true
   },
   "outputs": [
    {
     "data": {
      "text/plain": [
       "{\\left| \\frac{1}{2} \\, \\beta \\gamma w_{12} w_{21} - \\frac{1}{2} \\, \\alpha w_{21}^{2} - \\frac{1}{2} \\, \\beta - \\gamma + \\frac{1}{2} \\, \\sqrt{-2 \\, \\alpha \\beta \\gamma w_{12} w_{21}^{3} + \\alpha^{2} w_{21}^{4} - 2 \\, {\\left(2 \\, \\beta \\gamma^{2} + {\\left(\\beta^{2} - 2 \\, \\beta\\right)} \\gamma\\right)} w_{12} w_{21} + {\\left(\\beta^{2} \\gamma^{2} w_{12}^{2} + 2 \\, \\alpha \\beta\\right)} w_{21}^{2} + \\beta^{2}} + 1 \\right|}"
      ]
     },
     "execution_count": 31,
     "metadata": {},
     "output_type": "execute_result"
    }
   ],
   "source": [
    "e1 = A.eigenvalues()[0].abs()\n",
    "e2 = A.eigenvalues()[1].abs()\n",
    "latex(e2)\n"
   ]
  },
  {
   "cell_type": "markdown",
   "metadata": {},
   "source": [
    "eigenvalues :\n",
    "${\\left| \\frac{1}{2} \\, \\beta \\gamma w_{12} w_{21} - \\frac{1}{2} \\, \\alpha w_{21}^{2} - \\frac{1}{2} \\, \\beta - \\gamma - \\frac{1}{2} \\, \\sqrt{-2 \\, \\alpha \\beta \\gamma w_{12} w_{21}^{3} + \\alpha^{2} w_{21}^{4} - 2 \\, {\\left(2 \\, \\beta \\gamma^{2} + {\\left(\\beta^{2} - 2 \\, \\beta\\right)} \\gamma\\right)} w_{12} w_{21} + {\\left(\\beta^{2} \\gamma^{2} w_{12}^{2} + 2 \\, \\alpha \\beta\\right)} w_{21}^{2} + \\beta^{2}} + 1 \\right|}$\n",
    "\n",
    "\n",
    "${\\left| \\frac{1}{2} \\, \\beta \\gamma w_{12} w_{21} - \\frac{1}{2} \\, \\alpha w_{21}^{2} - \\frac{1}{2} \\, \\beta - \\gamma + \\frac{1}{2} \\, \\sqrt{-2 \\, \\alpha \\beta \\gamma w_{12} w_{21}^{3} + \\alpha^{2} w_{21}^{4} - 2 \\, {\\left(2 \\, \\beta \\gamma^{2} + {\\left(\\beta^{2} - 2 \\, \\beta\\right)} \\gamma\\right)} w_{12} w_{21} + {\\left(\\beta^{2} \\gamma^{2} w_{12}^{2} + 2 \\, \\alpha \\beta\\right)} w_{21}^{2} + \\beta^{2}} + 1 \\right|}$\n",
    "\n",
    "\n",
    "abs 1 : \n",
    "$\\frac{1}{2} \\, {\\left| \\frac{\\beta d \\gamma w_{12} w_{21} - \\alpha w_{21}^{2} - {\\left(\\beta - 2\\right)} d - 2 \\, d \\gamma - \\sqrt{-2 \\, \\alpha \\beta d \\gamma w_{12} w_{21}^{3} + \\alpha^{2} w_{21}^{4} + \\beta^{2} d^{2} - 2 \\, {\\left(2 \\, \\beta d^{2} \\gamma^{2} + {\\left(\\beta^{2} - 2 \\, \\beta\\right)} d^{2} \\gamma\\right)} w_{12} w_{21} + {\\left(\\beta^{2} d^{2} \\gamma^{2} w_{12}^{2} + 2 \\, \\alpha \\beta d\\right)} w_{21}^{2}}}{d} \\right|}$\n",
    "\n",
    "abs 2 :\n",
    "$\\frac{1}{2} \\, {\\left| \\frac{\\beta d \\gamma w_{12} w_{21} - \\alpha w_{21}^{2} - {\\left(\\beta - 2\\right)} d - 2 \\, d \\gamma + \\sqrt{-2 \\, \\alpha \\beta d \\gamma w_{12} w_{21}^{3} + \\alpha^{2} w_{21}^{4} + \\beta^{2} d^{2} - 2 \\, {\\left(2 \\, \\beta d^{2} \\gamma^{2} + {\\left(\\beta^{2} - 2 \\, \\beta\\right)} d^{2} \\gamma\\right)} w_{12} w_{21} + {\\left(\\beta^{2} d^{2} \\gamma^{2} w_{12}^{2} + 2 \\, \\alpha \\beta d\\right)} w_{21}^{2}}}{d} \\right|}$"
   ]
  },
  {
   "cell_type": "code",
   "execution_count": 11,
   "metadata": {},
   "outputs": [
    {
     "data": {
      "text/plain": [
       "x^{2} + \\left(-\\beta \\gamma w_{12} w_{21} + \\frac{\\alpha w_{21}^{2}}{d} + \\beta + 2 \\, \\gamma - 2\\right) x + \\frac{\\alpha \\gamma w_{21}^{2}}{d} + \\beta \\gamma + \\gamma^{2} - \\frac{\\alpha w_{21}^{2}}{d} - \\beta - 2 \\, \\gamma + 1"
      ]
     },
     "execution_count": 11,
     "metadata": {},
     "output_type": "execute_result"
    }
   ],
   "source": [
    "f = A.charpoly(); latex(f)\n"
   ]
  },
  {
   "cell_type": "markdown",
   "metadata": {},
   "source": [
    "Poly char : $x^{2} + \\left(-\\beta \\gamma w_{12} w_{21} + \\frac{\\alpha w_{21}^{2}}{d} + \\beta + 2 \\, \\gamma - 2\\right) x + \\frac{\\alpha \\gamma w_{21}^{2}}{d} + \\beta \\gamma + \\gamma^{2} - \\frac{\\alpha w_{21}^{2}}{d} - \\beta - 2 \\, \\gamma + 1$"
   ]
  },
  {
   "cell_type": "code",
   "execution_count": 1,
   "metadata": {},
   "outputs": [],
   "source": [
    "b,l,a,d,x = var('b, l, a, d, x')\n",
    "\n",
    "assume(b,'real')\n",
    "assume(l,'real')\n",
    "assume(a,'real')\n",
    "assume(d,'real')\n",
    "assume(x,'real')\n",
    "\n",
    "rho = ((l*(cos(x)+i*sin(x))+(1-b-l)+a/d((cos(x)-i*sin(x))-1))(1-b*cos(x)-i*b*sin(x)))/((1-b*cos(x))^2+(b*sin(x))^2)\n",
    "\n",
    "theta = log(rho)"
   ]
  },
  {
   "cell_type": "code",
   "execution_count": 2,
   "metadata": {},
   "outputs": [
    {
     "data": {
      "text/plain": [
       "[abs(-l*cos(x)^4 + l*sin(x)^4 + (2*b + 4*l - 1)*cos(x)^3 + (2*I*l*cos(x) - 2*I*l - I)*sin(x)^3 - (5*b + 6*l - 2)*cos(x)^2 - ((2*b - 3)*cos(x) - b + 2)*sin(x)^2 + (4*b + 4*l - 1)*cos(x) + (2*I*l*cos(x)^3 + (-4*I*b - 6*I*l + 3*I)*cos(x)^2 + (6*I*b + 6*I*l - 4*I)*cos(x) - 2*I*b - 2*I*l + I)*sin(x) - b - l) == abs(b^2*cos(x)^5 + I*b^2*sin(x)^5 - (3*b^2 + 2*b)*cos(x)^4 - 3*(b^2*cos(x) - b^2)*sin(x)^4 + (3*b^2 + 6*b + 1)*cos(x)^3 + (-2*I*b^2*cos(x)^2 - 3*I*b^2 + (6*I*b^2 - 2*I*b)*cos(x) + I)*sin(x)^3 - (b^2 + 6*b + 3)*cos(x)^2 - (2*b^2*cos(x)^3 - 6*b*cos(x)^2 + b^2 - 3*(b^2 - 2*b - 1)*cos(x) - 3)*sin(x)^2 + (2*b + 3)*cos(x) + (-3*I*b^2*cos(x)^4 + (6*I*b^2 + 6*I*b)*cos(x)^3 + (-3*I*b^2 - 12*I*b - 3*I)*cos(x)^2 + (6*I*b + 6*I)*cos(x) - 3*I)*sin(x) - 1)]"
      ]
     },
     "execution_count": 2,
     "metadata": {},
     "output_type": "execute_result"
    }
   ],
   "source": [
    "solve(theta.real(),x)"
   ]
  },
  {
   "cell_type": "code",
   "execution_count": 8,
   "metadata": {},
   "outputs": [
    {
     "data": {
      "text/plain": [
       "arctan2(-2*b*cos(x)*sin(x)/((b^2*cos(x)^2 + b^2*sin(x)^2 - 2*b*cos(x) + 1)*(cos(x)^2 + sin(x)^2 - 2*cos(x) + 1)) + sin(x)/(b^2*cos(x)^2 + b^2*sin(x)^2 - 2*b*cos(x) + 1) + b*sin(x)/((b^2*cos(x)^2 + b^2*sin(x)^2 - 2*b*cos(x) + 1)*(cos(x)^2 + sin(x)^2 - 2*cos(x) + 1)) + sin(x)/((b^2*cos(x)^2 + b^2*sin(x)^2 - 2*b*cos(x) + 1)*(cos(x)^2 + sin(x)^2 - 2*cos(x) + 1)), -b*cos(x)^2/((b^2*cos(x)^2 + b^2*sin(x)^2 - 2*b*cos(x) + 1)*(cos(x)^2 + sin(x)^2 - 2*cos(x) + 1)) + b*sin(x)^2/((b^2*cos(x)^2 + b^2*sin(x)^2 - 2*b*cos(x) + 1)*(cos(x)^2 + sin(x)^2 - 2*cos(x) + 1)) - b/(b^2*cos(x)^2 + b^2*sin(x)^2 - 2*b*cos(x) + 1) - l/(b^2*cos(x)^2 + b^2*sin(x)^2 - 2*b*cos(x) + 1) + cos(x)/(b^2*cos(x)^2 + b^2*sin(x)^2 - 2*b*cos(x) + 1) + b*cos(x)/((b^2*cos(x)^2 + b^2*sin(x)^2 - 2*b*cos(x) + 1)*(cos(x)^2 + sin(x)^2 - 2*cos(x) + 1)) + 1/(b^2*cos(x)^2 + b^2*sin(x)^2 - 2*b*cos(x) + 1) + cos(x)/((b^2*cos(x)^2 + b^2*sin(x)^2 - 2*b*cos(x) + 1)*(cos(x)^2 + sin(x)^2 - 2*cos(x) + 1)) - 1/((b^2*cos(x)^2 + b^2*sin(x)^2 - 2*b*cos(x) + 1)*(cos(x)^2 + sin(x)^2 - 2*cos(x) + 1)))"
      ]
     },
     "execution_count": 8,
     "metadata": {},
     "output_type": "execute_result"
    }
   ],
   "source": [
    "theta.imag()"
   ]
  },
  {
   "cell_type": "code",
   "execution_count": null,
   "metadata": {},
   "outputs": [],
   "source": []
  }
 ],
 "metadata": {
  "kernelspec": {
   "display_name": "SageMath 9.3",
   "language": "sage",
   "name": "sagemath"
  },
  "language_info": {
   "codemirror_mode": {
    "name": "ipython",
    "version": 3
   },
   "file_extension": ".py",
   "mimetype": "text/x-python",
   "name": "python",
   "nbconvert_exporter": "python",
   "pygments_lexer": "ipython3",
   "version": "3.7.10"
  }
 },
 "nbformat": 4,
 "nbformat_minor": 4
}
