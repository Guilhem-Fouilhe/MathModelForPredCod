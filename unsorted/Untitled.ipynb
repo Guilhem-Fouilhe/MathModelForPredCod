{
 "cells": [
  {
   "cell_type": "code",
   "execution_count": 4,
   "metadata": {},
   "outputs": [
    {
     "data": {
      "text/plain": [
       "(y_0 + e^x - 1)*e^(-x)"
      ]
     },
     "execution_count": 4,
     "metadata": {},
     "output_type": "execute_result"
    }
   ],
   "source": [
    "x = var('x')\n",
    "y_0 = var('y_0')\n",
    "y = function('y')(x)\n",
    "\n",
    "desolve(diff(y,x) + y - 1, y, ics=[0,y_0])"
   ]
  },
  {
   "cell_type": "code",
   "execution_count": 5,
   "metadata": {},
   "outputs": [
    {
     "data": {
      "text/plain": [
       "(_C + e^x)*e^(-x)"
      ]
     },
     "execution_count": 5,
     "metadata": {},
     "output_type": "execute_result"
    }
   ],
   "source": [
    "x = var('x')\n",
    "\n",
    "y = function('y')(x)\n",
    "\n",
    "desolve(diff(y,x) + y - 1, y)"
   ]
  },
  {
   "cell_type": "code",
   "execution_count": 10,
   "metadata": {},
   "outputs": [
    {
     "data": {
      "text/plain": [
       "[11  9  7]\n",
       "[ 9  9  9]\n",
       "[ 7  9 11]"
      ]
     },
     "execution_count": 10,
     "metadata": {},
     "output_type": "execute_result"
    }
   ],
   "source": [
    "A  = Matrix([[1,2,3],[3,2,1],[1,1,1]])\n",
    "A.H * A"
   ]
  },
  {
   "cell_type": "code",
   "execution_count": 19,
   "metadata": {},
   "outputs": [
    {
     "data": {
      "text/plain": [
       "(1/2*a_0^2*h*cos(1/2*t*w_1)^2 - 1/2*a_0^2*h*sin(1/2*t*w_1)^2)"
      ]
     },
     "execution_count": 19,
     "metadata": {},
     "output_type": "execute_result"
    }
   ],
   "source": [
    "a_0 = var('a_0')\n",
    "b_0 = var('b_0')\n",
    "w_0 = var('w_0')\n",
    "assume(w_0,'real')\n",
    "w_1 = var('w_1')\n",
    "assume(w_1,'real')\n",
    "t = var('t')\n",
    "assume(t,'real')\n",
    "h = var('h')\n",
    "assume(h,'real')\n",
    "\n",
    "A = Matrix([[a_0*cos(w_1*t/2)*e^(- i * w_0*t/2)],[-a_0*i*sin(w_1*t/2)*e^(i * w_0*t/2)]])\n",
    "\n",
    "S = Matrix([[h/2,0],[0,-h/2]])\n",
    "\n",
    "Ah = A.H\n",
    "mod2 = a_0*conjugate(a_0)\n",
    "(A.H * S * A )[0].simplify()"
   ]
  },
  {
   "cell_type": "code",
   "execution_count": null,
   "metadata": {},
   "outputs": [],
   "source": []
  }
 ],
 "metadata": {
  "kernelspec": {
   "display_name": "SageMath 9.3",
   "language": "sage",
   "name": "sagemath"
  },
  "language_info": {
   "codemirror_mode": {
    "name": "ipython",
    "version": 3
   },
   "file_extension": ".py",
   "mimetype": "text/x-python",
   "name": "python",
   "nbconvert_exporter": "python",
   "pygments_lexer": "ipython3",
   "version": "3.7.10"
  }
 },
 "nbformat": 4,
 "nbformat_minor": 4
}
